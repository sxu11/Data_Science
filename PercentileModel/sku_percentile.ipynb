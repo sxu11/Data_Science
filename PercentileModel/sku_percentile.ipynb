{
 "cells": [
  {
   "cell_type": "markdown",
   "metadata": {},
   "source": [
    "Steps:\n",
    "\n",
    "Offline:\n",
    "1.prepare a kusto query to download time series of a rollout progression\n",
    "  - e.g. scoped by a rolloutId, rolloutLabel, buildLabel, etc. (provide examples)\n",
    "  - select one or a set of signals to define the \"regress cnt\"\n",
    "  - caution: \n",
    "    - start time of each one, whether truncated by 90d limit of kusto\n",
    "    - handle timeout/memory overflow/throttle (resolved by using follower db) issue for each label\n",
    "2.download these timeseries into a folder\n",
    "3.pass the folder address, maxLimit, to the percentile matrix generator\n",
    "  - generate matrix\n",
    "  - generate report\n",
    "\n",
    "Online serving:\n",
    "1.enable model to consume a percentile matrix\n",
    "  - for any given deployedCnt, have a dynamic threshold for any specific signal/set\n",
    "  - write logic when deployedCnt is greater than maxLimit\n",
    "2.check in percentile matrix to PFGold\n",
    "3.check in model config, e.g. specs:\n",
    "  - "
   ]
  },
  {
   "cell_type": "code",
   "execution_count": 4,
   "metadata": {},
   "outputs": [
    {
     "name": "stdout",
     "output_type": "stream",
     "text": [
      "Collecting pandas\n",
      "  Downloading pandas-1.3.4-cp39-cp39-macosx_10_9_x86_64.whl (11.6 MB)\n",
      "\u001b[K     |████████████████████████████████| 11.6 MB 3.8 MB/s eta 0:00:01\n",
      "\u001b[?25hRequirement already satisfied: numpy>=1.17.3; platform_machine != \"aarch64\" and platform_machine != \"arm64\" and python_version < \"3.10\" in /Users/songxu/PycharmProjects/Machine_Learning/venv/lib/python3.9/site-packages (from pandas) (1.21.4)\n",
      "Requirement already satisfied: python-dateutil>=2.7.3 in /Users/songxu/PycharmProjects/Machine_Learning/venv/lib/python3.9/site-packages (from pandas) (2.8.2)\n",
      "Collecting pytz>=2017.3\n",
      "  Downloading pytz-2021.3-py2.py3-none-any.whl (503 kB)\n",
      "\u001b[K     |████████████████████████████████| 503 kB 5.9 MB/s eta 0:00:01\n",
      "\u001b[?25hRequirement already satisfied: six>=1.5 in /Users/songxu/PycharmProjects/Machine_Learning/venv/lib/python3.9/site-packages (from python-dateutil>=2.7.3->pandas) (1.16.0)\n",
      "Installing collected packages: pytz, pandas\n",
      "Successfully installed pandas-1.3.4 pytz-2021.3\n",
      "\u001b[33mWARNING: You are using pip version 20.2.3; however, version 21.3.1 is available.\n",
      "You should consider upgrading via the '/Users/songxu/PycharmProjects/Machine_Learning/venv/bin/python3 -m pip install --upgrade pip' command.\u001b[0m\n"
     ]
    }
   ],
   "source": [
    "#!pip3 install matplotlib\n",
    "!pip3 install pandas"
   ]
  },
  {
   "cell_type": "code",
   "execution_count": 9,
   "metadata": {},
   "outputs": [
    {
     "data": {
      "text/plain": [
       "<module 'PercentileModel' from '/Users/songxu/PycharmProjects/Machine_Learning/PercentileModel/PercentileModel.py'>"
      ]
     },
     "execution_count": 9,
     "metadata": {},
     "output_type": "execute_result"
    }
   ],
   "source": [
    "import PercentileModel\n",
    "import os\n",
    "import pandas as pd\n",
    "import importlib\n",
    "importlib.reload(PercentileModel)"
   ]
  },
  {
   "cell_type": "markdown",
   "metadata": {},
   "source": [
    "Percentile Model will:\n",
    "1. Generate a percentileMatrix\n",
    "2. Generate reports"
   ]
  },
  {
   "cell_type": "code",
   "execution_count": 11,
   "metadata": {},
   "outputs": [],
   "source": [
    "# Local configs\n",
    "workingFolderPath = r\"/Users/songxu/DataRepo/PercentileModel\"\n",
    "tsDataFilePath = os.path.join(workingFolderPath, \"input/allDf.csv\")"
   ]
  },
  {
   "cell_type": "code",
   "execution_count": 12,
   "metadata": {},
   "outputs": [],
   "source": [
    "model = PercentileModel.PercentileModel(workingFolderPath)\n",
    "inputData = pd.read_csv(tsDataFilePath)"
   ]
  },
  {
   "cell_type": "code",
   "execution_count": 14,
   "metadata": {
    "scrolled": false
   },
   "outputs": [
    {
     "data": {
      "text/plain": [
       "(17239, 5)"
      ]
     },
     "execution_count": 14,
     "metadata": {},
     "output_type": "execute_result"
    }
   ],
   "source": [
    "inputData.shape\n",
    "# allDf = pd.DataFrame()\n",
    "# for dataFileName in os.listdir(tsDataFolderPath):\n",
    "#     dataFilePath = os.path.join(tsDataFolderPath, dataFileName)\n",
    "#     curDf = pd.read_csv(dataFilePath)\n",
    "#     allDf = allDf.append(curDf)\n",
    "# print(allDf.shape)\n",
    "# print(allDf.head(1))\n",
    "\n",
    "# allDf.rename(columns={'totalMonitoredNode': 'totalTargetCnt', 'totalRegressedCount': 'regressTargetCnt_0.4', 'buildLabelPerSvc': 'rolloutLabel'}, inplace=True)"
   ]
  },
  {
   "cell_type": "code",
   "execution_count": 23,
   "metadata": {},
   "outputs": [],
   "source": []
  },
  {
   "cell_type": "code",
   "execution_count": 27,
   "metadata": {},
   "outputs": [
    {
     "name": "stdout",
     "output_type": "stream",
     "text": [
      "minNumRegress 0 at minTotalCntAtMinRegress 7604\n"
     ]
    },
    {
     "data": {
      "image/png": "[encoded data removed]",
      "text/plain": [
       "<Figure size 432x288 with 1 Axes>"
      ]
     },
     "metadata": {
      "needs_background": "light"
     },
     "output_type": "display_data"
    }
   ],
   "source": [
    "model.fit(allDf) #todo: create artifacts_data"
   ]
  },
  {
   "cell_type": "code",
   "execution_count": null,
   "metadata": {},
   "outputs": [],
   "source": []
  }
 ],
 "metadata": {
  "kernelspec": {
   "display_name": "Python 3 (ipykernel)",
   "language": "python",
   "name": "python3"
  },
  "language_info": {
   "codemirror_mode": {
    "name": "ipython",
    "version": 3
   },
   "file_extension": ".py",
   "mimetype": "text/x-python",
   "name": "python",
   "nbconvert_exporter": "python",
   "pygments_lexer": "ipython3",
   "version": "3.9.2"
  }
 },
 "nbformat": 4,
 "nbformat_minor": 5
}
