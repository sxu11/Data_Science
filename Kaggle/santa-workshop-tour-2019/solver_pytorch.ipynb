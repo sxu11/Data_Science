{
 "cells": [
  {
   "cell_type": "code",
   "execution_count": 1,
   "metadata": {},
   "outputs": [
    {
     "name": "stdout",
     "output_type": "stream",
     "text": [
      "Collecting torch\n",
      "\u001b[?25l  Downloading https://files.pythonhosted.org/packages/65/96/c97c8a0ea8f66de41f452925b521bcfdebef6fffb899dc704fc269d87563/torch-1.3.1-cp36-none-macosx_10_7_x86_64.whl (71.1MB)\n",
      "\u001b[K    100% |████████████████████████████████| 71.1MB 657kB/s ta 0:00:011\n",
      "\u001b[?25hRequirement already satisfied: numpy in /Users/songxu/Code/venv/lib/python3.6/site-packages (from torch) (1.16.4)\n",
      "Installing collected packages: torch\n",
      "Successfully installed torch-1.3.1\n"
     ]
    }
   ],
   "source": [
    "# https://www.kaggle.com/pavelvod/pytorch-starter-solution\n",
    "!pip install torch"
   ]
  },
  {
   "cell_type": "code",
   "execution_count": 11,
   "metadata": {},
   "outputs": [],
   "source": [
    "import utils\n",
    "\n",
    "import numpy as np\n",
    "\n",
    "import torch\n",
    "import torch.nn as nn\n",
    "import torch.nn.functional as F\n",
    "from torch.autograd import Variable"
   ]
  },
  {
   "cell_type": "code",
   "execution_count": null,
   "metadata": {},
   "outputs": [],
   "source": [
    "# giftCostsNp (5000, 100): [i,j] means the gift cost when i-th family choses j-th day.\n",
    "row, col = 5000, 100\n",
    "giftCostsNp = np.zeros((row, col))\n",
    "familySizesNp = np.zeros((row, 1))\n",
    "\n",
    "familyDataNp = utils.readDataDf().values\n",
    "\n",
    "for i in range(row):\n",
    "    familySizesNp[i] = familyDataNp[i, -1]\n",
    "    for j in range(col):\n",
    "        giftCostsNp[i,j] = utils.getCurGift(assignDay=j, \n",
    "                                          familyPreferencesList=familyDataNp[i, 1:-1].tolist(), \n",
    "                                          familySize=familySizesNp[i])"
   ]
  },
  {
   "cell_type": "code",
   "execution_count": 72,
   "metadata": {},
   "outputs": [],
   "source": [
    "class Model(nn.Module):\n",
    "    def __init__(self, giftCostsNp, familySizesNp):\n",
    "        super().__init__()\n",
    "        self.giftCostsTc = torch.from_numpy(giftCostsNp).type(torch.float32)\n",
    "        self.familySizesTc = torch.from_numpy(familySizesNp).type(torch.float32)\n",
    "        self.assignWeightsTc = torch.nn.Parameter(data=torch.Tensor(5000, 100), requires_grad=True)\n",
    "        self.assignWeightsTc.data.uniform_(0,5) # weight initialization?\n",
    "        \n",
    "    def forward(self):\n",
    "        assignProbTc = F.softmax(self.assignWeightsTc, dim=1)\n",
    "#         print(self.giftCostsTc.shape, assignProbTc.shape)\n",
    "        giftCostTotalTc = (self.giftCostsTc * assignProbTc).sum()\n",
    "        \n",
    "        NdTc = (assignProbTc.transpose(0,1) @ self.familySizesTc).sum(axis=1)\n",
    "        NdTcCat = torch.zeros(101, dtype=torch.float32)\n",
    "        NdTcCat[:-1] = NdTc\n",
    "        \n",
    "        cleanCostTotalTc = ((NdTc-125.)/400. * NdTc**(0.5+abs(NdTcCat[:-1]-NdTcCat[1:])/50.)).sum()\n",
    "        return giftCostTotalTc, cleanCostTotalTc"
   ]
  },
  {
   "cell_type": "code",
   "execution_count": 83,
   "metadata": {},
   "outputs": [],
   "source": [
    "def cost_function():\n",
    "    return None"
   ]
  },
  {
   "cell_type": "code",
   "execution_count": 79,
   "metadata": {},
   "outputs": [],
   "source": [
    "model = Model(giftCostsNp, familySizesNp)\n",
    "best_score = 10e10\n",
    "best_pos = None"
   ]
  },
  {
   "cell_type": "code",
   "execution_count": null,
   "metadata": {},
   "outputs": [
    {
     "name": "stdout",
     "output_type": "stream",
     "text": [
      "tensor(34257688., grad_fn=<AddBackward0>)\n",
      "tensor(12388296., grad_fn=<AddBackward0>)\n",
      "tensor(11321018., grad_fn=<AddBackward0>)\n",
      "tensor(10972253., grad_fn=<AddBackward0>)\n",
      "tensor(10791172., grad_fn=<AddBackward0>)\n",
      "tensor(10667394., grad_fn=<AddBackward0>)\n",
      "tensor(10564663., grad_fn=<AddBackward0>)\n",
      "tensor(10467239., grad_fn=<AddBackward0>)\n",
      "tensor(10366871., grad_fn=<AddBackward0>)\n",
      "tensor(10258669., grad_fn=<AddBackward0>)\n",
      "tensor(10139164., grad_fn=<AddBackward0>)\n",
      "tensor(10005852., grad_fn=<AddBackward0>)\n",
      "tensor(9857358., grad_fn=<AddBackward0>)\n",
      "tensor(9693415., grad_fn=<AddBackward0>)\n",
      "tensor(9514839., grad_fn=<AddBackward0>)\n",
      "tensor(9323325., grad_fn=<AddBackward0>)\n",
      "tensor(9121209., grad_fn=<AddBackward0>)\n",
      "tensor(8911199., grad_fn=<AddBackward0>)\n",
      "tensor(8695971., grad_fn=<AddBackward0>)\n",
      "tensor(8477827., grad_fn=<AddBackward0>)\n",
      "tensor(8258630.5000, grad_fn=<AddBackward0>)\n",
      "tensor(8039763., grad_fn=<AddBackward0>)\n",
      "tensor(7822255., grad_fn=<AddBackward0>)\n",
      "tensor(7606860.5000, grad_fn=<AddBackward0>)\n",
      "tensor(7394120., grad_fn=<AddBackward0>)\n",
      "tensor(7184400.5000, grad_fn=<AddBackward0>)\n",
      "tensor(6977921.5000, grad_fn=<AddBackward0>)\n",
      "tensor(6774865.5000, grad_fn=<AddBackward0>)\n",
      "tensor(6575351., grad_fn=<AddBackward0>)\n",
      "tensor(6379466.5000, grad_fn=<AddBackward0>)\n",
      "tensor(6187243.5000, grad_fn=<AddBackward0>)\n",
      "tensor(5998641.5000, grad_fn=<AddBackward0>)\n",
      "tensor(5813443.5000, grad_fn=<AddBackward0>)\n",
      "tensor(5630717., grad_fn=<AddBackward0>)\n",
      "tensor(4348232., grad_fn=<AddBackward0>)\n",
      "tensor(-1.7812e+23, grad_fn=<AddBackward0>)\n",
      "tensor(-5.1688e+24, grad_fn=<AddBackward0>)\n",
      "tensor(-6.4531e+24, grad_fn=<AddBackward0>)\n",
      "tensor(-7.0285e+24, grad_fn=<AddBackward0>)\n",
      "tensor(-7.3779e+24, grad_fn=<AddBackward0>)\n",
      "tensor(-7.6228e+24, grad_fn=<AddBackward0>)\n"
     ]
    }
   ],
   "source": [
    "optimizer = torch.optim.Adam(model.parameters())\n",
    "for epoch in range(15000):\n",
    "    optimizer.zero_grad()\n",
    "    x, y = model()\n",
    "#     print(x.shape, y.shape)\n",
    "    loss = x + y\n",
    "    loss.backward()\n",
    "    optimizer.step()\n",
    "    \n",
    "    if epoch % 100 == 0:\n",
    "        print(loss)\n",
    "#         pos = model.assignWeightsTc.argmax(1).numpy()\n",
    "#         a, b, v = cost_function(pos+1)\n",
    "#         score = a + b\n",
    "#         if score < best_score:\n",
    "#             best_score = score\n",
    "#             best_pos = pos\n",
    "#         x = np.round(x.item(), 3)\n",
    "#         y = np.round(y.item(), 3)\n",
    "#         print(f\"{epoch}\\t{x}\\t{y}\\t{score}\\t{a}\\t{b}\\t{v}\")"
   ]
  },
  {
   "cell_type": "code",
   "execution_count": null,
   "metadata": {},
   "outputs": [],
   "source": []
  },
  {
   "cell_type": "code",
   "execution_count": null,
   "metadata": {},
   "outputs": [],
   "source": []
  }
 ],
 "metadata": {
  "kernelspec": {
   "display_name": "Python 3",
   "language": "python",
   "name": "python3"
  },
  "language_info": {
   "codemirror_mode": {
    "name": "ipython",
    "version": 3
   },
   "file_extension": ".py",
   "mimetype": "text/x-python",
   "name": "python",
   "nbconvert_exporter": "python",
   "pygments_lexer": "ipython3",
   "version": "3.6.5"
  }
 },
 "nbformat": 4,
 "nbformat_minor": 2
}
